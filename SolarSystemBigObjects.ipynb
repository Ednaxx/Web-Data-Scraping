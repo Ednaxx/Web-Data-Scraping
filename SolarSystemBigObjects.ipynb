{
 "cells": [
  {
   "cell_type": "markdown",
   "metadata": {},
   "source": [
    "## Scraping Table From Wikipedia"
   ]
  },
  {
   "cell_type": "code",
   "execution_count": 1,
   "metadata": {},
   "outputs": [],
   "source": [
    "from bs4 import BeautifulSoup\n",
    "import requests"
   ]
  },
  {
   "cell_type": "code",
   "execution_count": 2,
   "metadata": {},
   "outputs": [],
   "source": [
    "page = requests.get('https://en.wikipedia.org/wiki/List_of_Solar_System_objects_by_size')\n",
    "soup = BeautifulSoup(page.text, 'html')"
   ]
  },
  {
   "cell_type": "markdown",
   "metadata": {},
   "source": [
    "### Find first \\<table\\> in the soup"
   ]
  },
  {
   "cell_type": "code",
   "execution_count": 17,
   "metadata": {},
   "outputs": [],
   "source": [
    "table = soup.find_all('table')[1]"
   ]
  },
  {
   "cell_type": "code",
   "execution_count": 25,
   "metadata": {},
   "outputs": [
    {
     "data": {
      "text/plain": [
       "['Body[note 1]',\n",
       " 'Image',\n",
       " 'Radius[note 2]',\n",
       " 'Volume',\n",
       " 'Mass',\n",
       " 'Surface area',\n",
       " 'Density',\n",
       " 'Gravity[note 3]',\n",
       " 'Type',\n",
       " 'Discovery',\n",
       " '(km)',\n",
       " '(R🜨)',\n",
       " '(109\\xa0km3)',\n",
       " '(V🜨)',\n",
       " '(1021\\xa0kg)',\n",
       " '(M🜨)',\n",
       " '(106 km2)',\n",
       " '🜨',\n",
       " '(g/cm3)',\n",
       " '(m/s2)',\n",
       " '(🜨)',\n",
       " '695508 ±\\xa0?[13]',\n",
       " '1989100000[13]',\n",
       " '1.409[13]',\n",
       " '69911±6[14]',\n",
       " '1898187±88[14]',\n",
       " '1.3262±0.0003[14]',\n",
       " '58232±6[14](136775 for A Ring)',\n",
       " '568317±13[14]',\n",
       " '0.6871±0.0002[14]',\n",
       " '25362±7[14]',\n",
       " '86813±4[14]',\n",
       " '1.270±0.001[14]',\n",
       " '24622±19[14]',\n",
       " '102413±5[14]',\n",
       " '1.638±0.004[14]',\n",
       " '6371.0084±0.0001[14]',\n",
       " '5972.4±0.3[14]',\n",
       " '5.5136±0.0003[14]',\n",
       " '6052±1[14]',\n",
       " '4867.5±0.2[14]',\n",
       " '5.243±0.003[14]',\n",
       " '3389.5±0.2[14]',\n",
       " '641.71±0.03[14]',\n",
       " '3.9341±0.0007[14]',\n",
       " '2634.1±0.3',\n",
       " '148.2',\n",
       " '1.936',\n",
       " '2574.73±0.09[23]',\n",
       " '134.5',\n",
       " '1.880±0.004',\n",
       " '2439.4±0.1[14]',\n",
       " '330.11±0.02[14]',\n",
       " '5.4291±0.007[14]',\n",
       " '2410.3±1.5[23]',\n",
       " '107.6',\n",
       " '1.834±0.003',\n",
       " '1821.6±0.5[5]',\n",
       " '89.32',\n",
       " '3.528±0.006',\n",
       " '1737.5±0.1[28]',\n",
       " '73.46[29]',\n",
       " '3.344±0.005[28]',\n",
       " '1560.8±0.5[5]',\n",
       " '48.00',\n",
       " '3.013±0.005',\n",
       " '1353.4±0.9[a][23]',\n",
       " '21.39±0.03',\n",
       " '2.061',\n",
       " '1188.3±0.8',\n",
       " '13.03±0.03',\n",
       " '1.854±0.006',\n",
       " '1163±6[b][33]',\n",
       " '16.6±0.2[34]',\n",
       " '2.52±0.07',\n",
       " '798±6 to 816[35]',\n",
       " '4.01±0.04[36]',\n",
       " '2.018[37][d]',\n",
       " '788.9±1.8[23]',\n",
       " '3.40±0.06',\n",
       " '1.711±0.005',\n",
       " '763.8±1.0[e]',\n",
       " '2.307',\n",
       " '1.236±0.005',\n",
       " '761.4±2.6[a][23]',\n",
       " '3.08±0.09',\n",
       " '1.63±0.05',\n",
       " '735.6±1.5[5]',\n",
       " '1.806',\n",
       " '1.088±0.013',\n",
       " '715+19−11[41]',\n",
       " '≈\\xa03.1',\n",
       " '≈\\xa02.1',\n",
       " '615±25[42]',\n",
       " '1.75±0.07',\n",
       " '1.72±0.16',\n",
       " '606.0±0.5',\n",
       " '1.586±0.015',\n",
       " '1.70±0.02',\n",
       " '584.7±2.8[23]',\n",
       " '1.28±0.03',\n",
       " '1.39±0.16',\n",
       " '578.9±0.6[23]',\n",
       " '1.25±0.02',\n",
       " '1.66±0.15',\n",
       " '561.7±0.45[23]',\n",
       " '1.095',\n",
       " '1.478±0.003',\n",
       " '543±2',\n",
       " '1.20±0.05[47]',\n",
       " '2.0±0.5[48]',\n",
       " '533.0±0.7[23]',\n",
       " '0.617',\n",
       " '0.984±0.003[50]',\n",
       " '498±40',\n",
       " '',\n",
       " '',\n",
       " '469.7±0.1[51]',\n",
       " '0.938[52]',\n",
       " '2.17',\n",
       " '455+25−20',\n",
       " '0.548±0.010[54]',\n",
       " '1.4±0.2[54]',\n",
       " '423±11',\n",
       " '0.492±0.007[55]',\n",
       " '1.5±0.1[55]',\n",
       " '400±12[56]',\n",
       " '',\n",
       " '']"
      ]
     },
     "execution_count": 25,
     "metadata": {},
     "output_type": "execute_result"
    }
   ],
   "source": [
    "html_headers = table.find_all('th')\n",
    "all_headers = [title.text.strip() for title in html_headers]\n",
    "all_headers"
   ]
  },
  {
   "cell_type": "markdown",
   "metadata": {},
   "source": [
    "I will remove the Earth-based metrics columns, since we can calculated that based on Earth's data."
   ]
  },
  {
   "cell_type": "code",
   "execution_count": 28,
   "metadata": {},
   "outputs": [
    {
     "data": {
      "text/plain": [
       "['Body[note 1]',\n",
       " 'Radius[note 2]',\n",
       " 'Volume',\n",
       " 'Mass',\n",
       " 'Surface area',\n",
       " 'Density',\n",
       " 'Gravity[note 3]',\n",
       " 'Type',\n",
       " 'Discovery']"
      ]
     },
     "execution_count": 28,
     "metadata": {},
     "output_type": "execute_result"
    }
   ],
   "source": [
    "\n",
    "all_headers = all_headers[:10]\n",
    "all_headers.remove('Image')\n",
    "all_headers"
   ]
  },
  {
   "cell_type": "code",
   "execution_count": null,
   "metadata": {},
   "outputs": [],
   "source": []
  }
 ],
 "metadata": {
  "kernelspec": {
   "display_name": "Python 3",
   "language": "python",
   "name": "python3"
  },
  "language_info": {
   "codemirror_mode": {
    "name": "ipython",
    "version": 3
   },
   "file_extension": ".py",
   "mimetype": "text/x-python",
   "name": "python",
   "nbconvert_exporter": "python",
   "pygments_lexer": "ipython3",
   "version": "3.12.0"
  }
 },
 "nbformat": 4,
 "nbformat_minor": 2
}
